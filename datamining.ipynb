{
 "cells": [
  {
   "cell_type": "markdown",
   "metadata": {},
   "source": [
    "# Enes Kılıçarslan - 17011011 \n",
    "\n",
    "### Data Mining Project - Mesothelioma Data Set Analysis and Mining\n",
    "\n",
    "Before starting the project I've examined the .xlsx file and captured something worth to mention at the beginning. One of the features is exactly the same with the output class. To demonstrate that, I've been doing the things down below. So actual process starts after the workaround in the dataset. Thanks!"
   ]
  },
  {
   "cell_type": "code",
   "execution_count": 1,
   "metadata": {},
   "outputs": [],
   "source": [
    "import numpy as np\n",
    "import matplotlib.pyplot as plt\n",
    "import pandas as pd\n",
    "from sklearn.model_selection import train_test_split\n",
    "from xgboost import XGBClassifier\n",
    "from sklearn.metrics import precision_recall_fscore_support"
   ]
  },
  {
   "cell_type": "markdown",
   "metadata": {},
   "source": [
    "#### Data Description\n",
    "In order to perform the research reported, the patient’s hospital reports from Dicle University, Faculticity of Medicine were\n",
    "used in this work. One of the special characteristic of this diagnosis study is to use the real dataset composed from patient reports of this hospital. Three hundred and twenty-four MM patient data were diagnosed and treated. These data were\n",
    "investigated retrospectively and analysed files."
   ]
  },
  {
   "cell_type": "code",
   "execution_count": 2,
   "metadata": {},
   "outputs": [],
   "source": [
    "dataset = pd.read_csv('Mesothelioma_data_set.csv')\n",
    "X = dataset.iloc[:,:-1].values\n",
    "y = dataset.iloc[:,-1].values"
   ]
  },
  {
   "cell_type": "markdown",
   "metadata": {},
   "source": [
    "#### Data Visualization"
   ]
  },
  {
   "cell_type": "code",
   "execution_count": 3,
   "metadata": {},
   "outputs": [
    {
     "data": {
      "text/html": [
       "<div>\n",
       "<style scoped>\n",
       "    .dataframe tbody tr th:only-of-type {\n",
       "        vertical-align: middle;\n",
       "    }\n",
       "\n",
       "    .dataframe tbody tr th {\n",
       "        vertical-align: top;\n",
       "    }\n",
       "\n",
       "    .dataframe thead th {\n",
       "        text-align: right;\n",
       "    }\n",
       "</style>\n",
       "<table border=\"1\" class=\"dataframe\">\n",
       "  <thead>\n",
       "    <tr style=\"text-align: right;\">\n",
       "      <th></th>\n",
       "      <th>age</th>\n",
       "      <th>gender</th>\n",
       "      <th>city</th>\n",
       "      <th>asbestos exposure</th>\n",
       "      <th>type of MM</th>\n",
       "      <th>duration of asbestos exposure</th>\n",
       "      <th>diagnosis method</th>\n",
       "      <th>keep side</th>\n",
       "      <th>cytology</th>\n",
       "      <th>duration of symptoms</th>\n",
       "      <th>...</th>\n",
       "      <th>pleural lactic dehydrogenise</th>\n",
       "      <th>pleural protein</th>\n",
       "      <th>pleural albumin</th>\n",
       "      <th>pleural glucose</th>\n",
       "      <th>dead or not</th>\n",
       "      <th>pleural effusion</th>\n",
       "      <th>pleural thickness on tomography</th>\n",
       "      <th>pleural level of acidity (pH)</th>\n",
       "      <th>C-reactive protein (CRP)</th>\n",
       "      <th>class of diagnosis</th>\n",
       "    </tr>\n",
       "  </thead>\n",
       "  <tbody>\n",
       "    <tr>\n",
       "      <th>0</th>\n",
       "      <td>47.0</td>\n",
       "      <td>1</td>\n",
       "      <td>0</td>\n",
       "      <td>1</td>\n",
       "      <td>0.0</td>\n",
       "      <td>20.0</td>\n",
       "      <td>1</td>\n",
       "      <td>0</td>\n",
       "      <td>1</td>\n",
       "      <td>24.0</td>\n",
       "      <td>...</td>\n",
       "      <td>289.0</td>\n",
       "      <td>0.0</td>\n",
       "      <td>0.0</td>\n",
       "      <td>79.0</td>\n",
       "      <td>1</td>\n",
       "      <td>0.0</td>\n",
       "      <td>0.0</td>\n",
       "      <td>0.0</td>\n",
       "      <td>34</td>\n",
       "      <td>1</td>\n",
       "    </tr>\n",
       "    <tr>\n",
       "      <th>1</th>\n",
       "      <td>55.0</td>\n",
       "      <td>1</td>\n",
       "      <td>0</td>\n",
       "      <td>1</td>\n",
       "      <td>0.0</td>\n",
       "      <td>45.0</td>\n",
       "      <td>1</td>\n",
       "      <td>0</td>\n",
       "      <td>0</td>\n",
       "      <td>1.0</td>\n",
       "      <td>...</td>\n",
       "      <td>7541.0</td>\n",
       "      <td>1.6</td>\n",
       "      <td>0.8</td>\n",
       "      <td>6.0</td>\n",
       "      <td>1</td>\n",
       "      <td>1.0</td>\n",
       "      <td>1.0</td>\n",
       "      <td>1.0</td>\n",
       "      <td>42</td>\n",
       "      <td>1</td>\n",
       "    </tr>\n",
       "    <tr>\n",
       "      <th>2</th>\n",
       "      <td>29.0</td>\n",
       "      <td>1</td>\n",
       "      <td>1</td>\n",
       "      <td>1</td>\n",
       "      <td>0.0</td>\n",
       "      <td>23.0</td>\n",
       "      <td>0</td>\n",
       "      <td>1</td>\n",
       "      <td>0</td>\n",
       "      <td>1.0</td>\n",
       "      <td>...</td>\n",
       "      <td>480.0</td>\n",
       "      <td>0.0</td>\n",
       "      <td>0.0</td>\n",
       "      <td>90.0</td>\n",
       "      <td>1</td>\n",
       "      <td>0.0</td>\n",
       "      <td>0.0</td>\n",
       "      <td>0.0</td>\n",
       "      <td>43</td>\n",
       "      <td>2</td>\n",
       "    </tr>\n",
       "  </tbody>\n",
       "</table>\n",
       "<p>3 rows × 35 columns</p>\n",
       "</div>"
      ],
      "text/plain": [
       "    age  gender  city  asbestos exposure  type of MM  \\\n",
       "0  47.0       1     0                  1         0.0   \n",
       "1  55.0       1     0                  1         0.0   \n",
       "2  29.0       1     1                  1         0.0   \n",
       "\n",
       "   duration of asbestos exposure  diagnosis method  keep side  cytology  \\\n",
       "0                           20.0                 1          0         1   \n",
       "1                           45.0                 1          0         0   \n",
       "2                           23.0                 0          1         0   \n",
       "\n",
       "   duration of symptoms  ...  pleural lactic dehydrogenise  pleural protein  \\\n",
       "0                  24.0  ...                         289.0              0.0   \n",
       "1                   1.0  ...                        7541.0              1.6   \n",
       "2                   1.0  ...                         480.0              0.0   \n",
       "\n",
       "   pleural albumin  pleural glucose  dead or not  pleural effusion  \\\n",
       "0              0.0             79.0            1               0.0   \n",
       "1              0.8              6.0            1               1.0   \n",
       "2              0.0             90.0            1               0.0   \n",
       "\n",
       "   pleural thickness on tomography  pleural level of acidity (pH)  \\\n",
       "0                              0.0                            0.0   \n",
       "1                              1.0                            1.0   \n",
       "2                              0.0                            0.0   \n",
       "\n",
       "   C-reactive protein (CRP)  class of diagnosis  \n",
       "0                        34                   1  \n",
       "1                        42                   1  \n",
       "2                        43                   2  \n",
       "\n",
       "[3 rows x 35 columns]"
      ]
     },
     "execution_count": 3,
     "metadata": {},
     "output_type": "execute_result"
    }
   ],
   "source": [
    "dataset.head(3)"
   ]
  },
  {
   "cell_type": "markdown",
   "metadata": {},
   "source": [
    "##### What are the attributes?"
   ]
  },
  {
   "cell_type": "code",
   "execution_count": 4,
   "metadata": {},
   "outputs": [
    {
     "data": {
      "text/plain": [
       "Index(['age', 'gender', 'city', 'asbestos exposure', 'type of MM',\n",
       "       'duration of asbestos exposure', 'diagnosis method', 'keep side',\n",
       "       'cytology', 'duration of symptoms', 'dyspnoea', 'ache on chest',\n",
       "       'weakness', 'habit of cigarette', 'performance status', 'white blood',\n",
       "       'cell count (WBC)', 'hemoglobin (HGB)', 'platelet count (PLT)',\n",
       "       'sedimentation', 'blood lactic dehydrogenise (LDH)',\n",
       "       'alkaline phosphatise (ALP)', 'total protein', 'albumin', 'glucose',\n",
       "       'pleural lactic dehydrogenise', 'pleural protein', 'pleural albumin',\n",
       "       'pleural glucose', 'dead or not', 'pleural effusion',\n",
       "       'pleural thickness on tomography', 'pleural level of acidity (pH)',\n",
       "       'C-reactive protein (CRP)', 'class of diagnosis'],\n",
       "      dtype='object')"
      ]
     },
     "execution_count": 4,
     "metadata": {},
     "output_type": "execute_result"
    }
   ],
   "source": [
    "dataset.columns"
   ]
  },
  {
   "cell_type": "markdown",
   "metadata": {},
   "source": [
    "##### Class Label Distribution"
   ]
  },
  {
   "cell_type": "code",
   "execution_count": 5,
   "metadata": {},
   "outputs": [
    {
     "data": {
      "text/plain": [
       "1    228\n",
       "2     96\n",
       "Name: class of diagnosis, dtype: int64"
      ]
     },
     "execution_count": 5,
     "metadata": {},
     "output_type": "execute_result"
    }
   ],
   "source": [
    "dataset['class of diagnosis'].value_counts()"
   ]
  },
  {
   "cell_type": "markdown",
   "metadata": {},
   "source": [
    "class of diagnosis (1:Healthy, 2: Mesothelioma)"
   ]
  },
  {
   "cell_type": "code",
   "execution_count": 6,
   "metadata": {},
   "outputs": [
    {
     "name": "stdout",
     "output_type": "stream",
     "text": [
      "[[47.  1.  0. ...  0.  0. 34.]\n",
      " [55.  1.  0. ...  1.  1. 42.]\n",
      " [29.  1.  1. ...  0.  0. 43.]\n",
      " ...\n",
      " [58.  1.  6. ...  0.  1. 68.]\n",
      " [42.  1.  6. ...  1.  0. 78.]\n",
      " [54.  1.  0. ...  1.  0. 45.]]\n"
     ]
    }
   ],
   "source": [
    "print(X)"
   ]
  },
  {
   "cell_type": "code",
   "execution_count": 7,
   "metadata": {},
   "outputs": [
    {
     "name": "stdout",
     "output_type": "stream",
     "text": [
      "[1 1 2 1 1] 324\n"
     ]
    }
   ],
   "source": [
    "print(y[:5], y.size)"
   ]
  },
  {
   "cell_type": "markdown",
   "metadata": {},
   "source": [
    "### ****\n",
    "For some classifier methods we need to use class label's starting from 0. In order to do it we are changing the class labels."
   ]
  },
  {
   "cell_type": "code",
   "execution_count": 8,
   "metadata": {},
   "outputs": [],
   "source": [
    "for i in range(y.size):\n",
    "    if y[i]==1:\n",
    "        y[i]=0\n",
    "    else:\n",
    "        y[i]=1"
   ]
  },
  {
   "cell_type": "code",
   "execution_count": 9,
   "metadata": {},
   "outputs": [
    {
     "name": "stdout",
     "output_type": "stream",
     "text": [
      "[0 0 1 0 0] 324\n"
     ]
    }
   ],
   "source": [
    "print(y[:5], y.size)"
   ]
  },
  {
   "cell_type": "markdown",
   "metadata": {},
   "source": [
    "### ***\n",
    "Since our dataset is consist of both categorical and numeric data we need to convert the categoric data into number attributes.\n",
    "If we investigate furtherly, all categorical data comes with numeric attribute which is nice for us.\n",
    "\n",
    "numeric features=> age, duration of asbestos exposure, duration of symptoms, white blood, cell count (WBC), platelet count(PLT), \n",
    "sedimentation, blood lactic dehydrogenise (LDH), alkaline phosphatise (ALP), total protein, albumin,\n",
    "glucose, pleural lactic dehydrogenise, pleural protein, pleural albumin, pleural glucose, C-reactive protein (CRP)"
   ]
  },
  {
   "cell_type": "markdown",
   "metadata": {},
   "source": [
    "### Train-Test Split Before Normalization and stuff"
   ]
  },
  {
   "cell_type": "code",
   "execution_count": 10,
   "metadata": {},
   "outputs": [],
   "source": [
    "x_train,x_test,y_train,y_test=train_test_split(X, y, test_size=0.2, random_state=7)"
   ]
  },
  {
   "cell_type": "code",
   "execution_count": 11,
   "metadata": {},
   "outputs": [],
   "source": [
    "from sklearn.preprocessing import MinMaxScaler\n",
    "\n",
    "scaler=MinMaxScaler((-1,1))\n",
    "x_train=scaler.fit_transform(x_train)\n",
    "x_test=scaler.fit_transform(x_test)\n",
    "y=y"
   ]
  },
  {
   "cell_type": "markdown",
   "metadata": {},
   "source": [
    "### ***\n",
    "We are using a classifier method for understanding the content of features. If something is not right we need to solve it first, then go on."
   ]
  },
  {
   "cell_type": "code",
   "execution_count": 12,
   "metadata": {},
   "outputs": [
    {
     "name": "stdout",
     "output_type": "stream",
     "text": [
      "[16:47:05] WARNING: C:/Users/Administrator/workspace/xgboost-win64_release_1.3.0/src/learner.cc:1061: Starting in XGBoost 1.3.0, the default evaluation metric used with the objective 'binary:logistic' was changed from 'error' to 'logloss'. Explicitly set eval_metric if you'd like to restore the old behavior.\n"
     ]
    },
    {
     "name": "stderr",
     "output_type": "stream",
     "text": [
      "c:\\users\\enes\\appdata\\local\\programs\\python\\python39\\lib\\site-packages\\xgboost\\sklearn.py:892: UserWarning: The use of label encoder in XGBClassifier is deprecated and will be removed in a future release. To remove this warning, do the following: 1) Pass option use_label_encoder=False when constructing XGBClassifier object; and 2) Encode your labels (y) as integers starting with 0, i.e. 0, 1, 2, ..., [num_class - 1].\n",
      "  warnings.warn(label_encoder_deprecation_msg, UserWarning)\n"
     ]
    },
    {
     "data": {
      "text/plain": [
       "XGBClassifier(base_score=0.5, booster='gbtree', colsample_bylevel=1,\n",
       "              colsample_bynode=1, colsample_bytree=1, gamma=0, gpu_id=-1,\n",
       "              importance_type='gain', interaction_constraints='',\n",
       "              learning_rate=0.300000012, max_delta_step=0, max_depth=6,\n",
       "              min_child_weight=1, missing=nan, monotone_constraints='()',\n",
       "              n_estimators=100, n_jobs=12, num_parallel_tree=1, random_state=0,\n",
       "              reg_alpha=0, reg_lambda=1, scale_pos_weight=1, subsample=1,\n",
       "              tree_method='exact', validate_parameters=1, verbosity=None)"
      ]
     },
     "execution_count": 12,
     "metadata": {},
     "output_type": "execute_result"
    }
   ],
   "source": [
    "model=XGBClassifier()\n",
    "model.fit(x_train,y_train)"
   ]
  },
  {
   "cell_type": "code",
   "execution_count": 13,
   "metadata": {},
   "outputs": [
    {
     "name": "stdout",
     "output_type": "stream",
     "text": [
      "100.0\n"
     ]
    }
   ],
   "source": [
    "from sklearn.metrics import accuracy_score\n",
    "\n",
    "y_pred=model.predict(x_test)\n",
    "print(accuracy_score(y_test, y_pred)*100)"
   ]
  },
  {
   "cell_type": "code",
   "execution_count": 14,
   "metadata": {},
   "outputs": [
    {
     "data": {
      "text/plain": [
       "DecisionTreeClassifier(criterion='entropy', random_state=0)"
      ]
     },
     "execution_count": 14,
     "metadata": {},
     "output_type": "execute_result"
    }
   ],
   "source": [
    "from sklearn.tree import DecisionTreeClassifier\n",
    "classifier = DecisionTreeClassifier(criterion = 'entropy', random_state = 0)\n",
    "classifier.fit(x_train, y_train)"
   ]
  },
  {
   "cell_type": "code",
   "execution_count": 15,
   "metadata": {},
   "outputs": [],
   "source": [
    "y_pred = classifier.predict(x_test)"
   ]
  },
  {
   "cell_type": "code",
   "execution_count": 16,
   "metadata": {
    "scrolled": true
   },
   "outputs": [
    {
     "name": "stdout",
     "output_type": "stream",
     "text": [
      "[[48  0]\n",
      " [ 0 17]]\n"
     ]
    },
    {
     "data": {
      "text/plain": [
       "1.0"
      ]
     },
     "execution_count": 16,
     "metadata": {},
     "output_type": "execute_result"
    }
   ],
   "source": [
    "from sklearn.metrics import confusion_matrix, accuracy_score\n",
    "cm = confusion_matrix(y_test, y_pred)\n",
    "print(cm)\n",
    "accuracy_score(y_test, y_pred)"
   ]
  },
  {
   "cell_type": "markdown",
   "metadata": {},
   "source": [
    "### ***\n",
    "Both classification methods gave %100 accuracy. That is not exactly we have wanted. Let's see what does tree consist of."
   ]
  },
  {
   "cell_type": "code",
   "execution_count": 17,
   "metadata": {},
   "outputs": [
    {
     "data": {
      "text/plain": [
       "[Text(167.4, 163.07999999999998, 'X[6] <= 0.0\\nentropy = 0.887\\nsamples = 259\\nvalue = [180, 79]'),\n",
       " Text(83.7, 54.360000000000014, 'entropy = 0.0\\nsamples = 79\\nvalue = [0, 79]'),\n",
       " Text(251.10000000000002, 54.360000000000014, 'entropy = 0.0\\nsamples = 180\\nvalue = [180, 0]')]"
      ]
     },
     "execution_count": 17,
     "metadata": {},
     "output_type": "execute_result"
    },
    {
     "data": {
      "image/png": "[encoded data removed]",
      "text/plain": [
       "<Figure size 432x288 with 1 Axes>"
      ]
     },
     "metadata": {
      "needs_background": "light"
     },
     "output_type": "display_data"
    }
   ],
   "source": [
    "from sklearn import tree\n",
    "tree.plot_tree(classifier)"
   ]
  },
  {
   "cell_type": "markdown",
   "metadata": {},
   "source": [
    "Our model gives %100 accuracy for both classification methods.\n",
    "When we check the Decision Tree, entropy of X[6] is very high and gives absolute success.\n",
    "If we examine the dataset, we come up with the idea X[6]:diagnosis method's outputs are exactly the same with class label.\n",
    "We are going to eliminate this feature for further operations to get a **reliable** model."
   ]
  },
  {
   "cell_type": "code",
   "execution_count": 18,
   "metadata": {},
   "outputs": [],
   "source": [
    "dataset = pd.read_csv('Mesothelioma_data_set.csv')\n",
    "dataset = dataset.drop(columns=['diagnosis method']) ### dropping the spoilsport feature\n",
    "X = dataset.iloc[:,:-1].values\n",
    "y = dataset.iloc[:,-1].values"
   ]
  },
  {
   "cell_type": "code",
   "execution_count": 19,
   "metadata": {},
   "outputs": [],
   "source": [
    "for i in range(y.size):\n",
    "    if y[i]==1:\n",
    "        y[i]=0\n",
    "    else:\n",
    "        y[i]=1"
   ]
  },
  {
   "cell_type": "code",
   "execution_count": 20,
   "metadata": {},
   "outputs": [],
   "source": [
    "scaler=MinMaxScaler((-1,1))\n",
    "x=scaler.fit_transform(X)\n",
    "y=y\n",
    "\n",
    "\n",
    "x_train,x_test,y_train,y_test=train_test_split(X, y, test_size=0.2, random_state=7)"
   ]
  },
  {
   "cell_type": "code",
   "execution_count": 21,
   "metadata": {},
   "outputs": [],
   "source": [
    "classifier.fit(x_train, y_train)\n",
    "y_pred = classifier.predict(x_test)"
   ]
  },
  {
   "cell_type": "code",
   "execution_count": 22,
   "metadata": {},
   "outputs": [
    {
     "name": "stdout",
     "output_type": "stream",
     "text": [
      "[[38 10]\n",
      " [ 7 10]]\n"
     ]
    },
    {
     "data": {
      "text/plain": [
       "0.7384615384615385"
      ]
     },
     "execution_count": 22,
     "metadata": {},
     "output_type": "execute_result"
    }
   ],
   "source": [
    "from sklearn.metrics import confusion_matrix, accuracy_score\n",
    "cm = confusion_matrix(y_test, y_pred)\n",
    "print(cm)\n",
    "accuracy_score(y_test, y_pred)"
   ]
  },
  {
   "cell_type": "code",
   "execution_count": 23,
   "metadata": {},
   "outputs": [
    {
     "data": {
      "text/plain": [
       "[Text(224.10978260869567, 210.645, 'X[6] <= 1.5\\nentropy = 0.887\\nsamples = 259\\nvalue = [180, 79]'),\n",
       " Text(132.82826086956524, 197.055, 'X[17] <= 190.5\\nentropy = 0.849\\nsamples = 240\\nvalue = [174, 66]'),\n",
       " Text(48.52173913043479, 183.465, 'X[25] <= 4.95\\nentropy = 0.998\\nsamples = 40\\nvalue = [19, 21]'),\n",
       " Text(38.81739130434783, 169.875, 'X[0] <= 55.0\\nentropy = 0.946\\nsamples = 33\\nvalue = [12, 21]'),\n",
       " Text(19.408695652173915, 156.285, 'X[20] <= 43.0\\nentropy = 0.337\\nsamples = 16\\nvalue = [1, 15]'),\n",
       " Text(9.704347826086957, 142.695, 'entropy = 0.0\\nsamples = 1\\nvalue = [1, 0]'),\n",
       " Text(29.11304347826087, 142.695, 'entropy = 0.0\\nsamples = 15\\nvalue = [0, 15]'),\n",
       " Text(58.22608695652174, 156.285, 'X[5] <= 38.0\\nentropy = 0.937\\nsamples = 17\\nvalue = [11, 6]'),\n",
       " Text(48.52173913043479, 142.695, 'entropy = 0.0\\nsamples = 7\\nvalue = [7, 0]'),\n",
       " Text(67.9304347826087, 142.695, 'X[19] <= 132.5\\nentropy = 0.971\\nsamples = 10\\nvalue = [4, 6]'),\n",
       " Text(58.22608695652174, 129.10500000000002, 'entropy = 0.0\\nsamples = 4\\nvalue = [4, 0]'),\n",
       " Text(77.63478260869566, 129.10500000000002, 'entropy = 0.0\\nsamples = 6\\nvalue = [0, 6]'),\n",
       " Text(58.22608695652174, 169.875, 'entropy = 0.0\\nsamples = 7\\nvalue = [7, 0]'),\n",
       " Text(217.13478260869567, 183.465, 'X[8] <= 11.0\\nentropy = 0.769\\nsamples = 200\\nvalue = [155, 45]'),\n",
       " Text(157.69565217391306, 169.875, 'X[2] <= 1.5\\nentropy = 0.711\\nsamples = 180\\nvalue = [145, 35]'),\n",
       " Text(97.04347826086958, 156.285, 'X[21] <= 6.35\\nentropy = 0.41\\nsamples = 73\\nvalue = [67, 6]'),\n",
       " Text(87.33913043478262, 142.695, 'entropy = 0.0\\nsamples = 29\\nvalue = [29, 0]'),\n",
       " Text(106.74782608695654, 142.695, 'X[26] <= 2.15\\nentropy = 0.575\\nsamples = 44\\nvalue = [38, 6]'),\n",
       " Text(97.04347826086958, 129.10500000000002, 'entropy = 0.0\\nsamples = 14\\nvalue = [14, 0]'),\n",
       " Text(116.45217391304348, 129.10500000000002, 'X[14] <= 7400.0\\nentropy = 0.722\\nsamples = 30\\nvalue = [24, 6]'),\n",
       " Text(97.04347826086958, 115.515, 'X[25] <= 4.75\\nentropy = 0.971\\nsamples = 5\\nvalue = [2, 3]'),\n",
       " Text(87.33913043478262, 101.925, 'entropy = 0.0\\nsamples = 3\\nvalue = [0, 3]'),\n",
       " Text(106.74782608695654, 101.925, 'entropy = 0.0\\nsamples = 2\\nvalue = [2, 0]'),\n",
       " Text(135.8608695652174, 115.515, 'X[26] <= 2.85\\nentropy = 0.529\\nsamples = 25\\nvalue = [22, 3]'),\n",
       " Text(126.15652173913044, 101.925, 'entropy = 0.0\\nsamples = 15\\nvalue = [15, 0]'),\n",
       " Text(145.56521739130437, 101.925, 'X[0] <= 55.0\\nentropy = 0.881\\nsamples = 10\\nvalue = [7, 3]'),\n",
       " Text(135.8608695652174, 88.33500000000001, 'entropy = 0.0\\nsamples = 6\\nvalue = [6, 0]'),\n",
       " Text(155.26956521739132, 88.33500000000001, 'X[17] <= 283.0\\nentropy = 0.811\\nsamples = 4\\nvalue = [1, 3]'),\n",
       " Text(145.56521739130437, 74.745, 'entropy = 0.0\\nsamples = 1\\nvalue = [1, 0]'),\n",
       " Text(164.97391304347826, 74.745, 'entropy = 0.0\\nsamples = 3\\nvalue = [0, 3]'),\n",
       " Text(218.34782608695653, 156.285, 'X[32] <= 41.5\\nentropy = 0.843\\nsamples = 107\\nvalue = [78, 29]'),\n",
       " Text(198.9391304347826, 142.695, 'X[17] <= 636.0\\nentropy = 0.267\\nsamples = 22\\nvalue = [21, 1]'),\n",
       " Text(189.23478260869567, 129.10500000000002, 'entropy = 0.0\\nsamples = 21\\nvalue = [21, 0]'),\n",
       " Text(208.64347826086959, 129.10500000000002, 'entropy = 0.0\\nsamples = 1\\nvalue = [0, 1]'),\n",
       " Text(237.75652173913045, 142.695, 'X[5] <= 49.0\\nentropy = 0.914\\nsamples = 85\\nvalue = [57, 28]'),\n",
       " Text(228.0521739130435, 129.10500000000002, 'X[23] <= 122.0\\nentropy = 0.953\\nsamples = 75\\nvalue = [47, 28]'),\n",
       " Text(203.7913043478261, 115.515, 'X[8] <= 1.5\\nentropy = 0.873\\nsamples = 58\\nvalue = [41, 17]'),\n",
       " Text(184.38260869565218, 101.925, 'X[24] <= 340.0\\nentropy = 0.811\\nsamples = 8\\nvalue = [2, 6]'),\n",
       " Text(174.67826086956524, 88.33500000000001, 'entropy = 0.0\\nsamples = 2\\nvalue = [2, 0]'),\n",
       " Text(194.08695652173915, 88.33500000000001, 'entropy = 0.0\\nsamples = 6\\nvalue = [0, 6]'),\n",
       " Text(223.20000000000002, 101.925, 'X[22] <= 2.8\\nentropy = 0.76\\nsamples = 50\\nvalue = [39, 11]'),\n",
       " Text(213.49565217391307, 88.33500000000001, 'entropy = 0.0\\nsamples = 12\\nvalue = [12, 0]'),\n",
       " Text(232.90434782608696, 88.33500000000001, 'X[15] <= 11.0\\nentropy = 0.868\\nsamples = 38\\nvalue = [27, 11]'),\n",
       " Text(223.20000000000002, 74.745, 'X[21] <= 7.35\\nentropy = 0.948\\nsamples = 30\\nvalue = [19, 11]'),\n",
       " Text(203.7913043478261, 61.155, 'X[15] <= 7.5\\nentropy = 0.811\\nsamples = 24\\nvalue = [18, 6]'),\n",
       " Text(194.08695652173915, 47.565, 'entropy = 0.0\\nsamples = 10\\nvalue = [10, 0]'),\n",
       " Text(213.49565217391307, 47.565, 'X[20] <= 67.0\\nentropy = 0.985\\nsamples = 14\\nvalue = [8, 6]'),\n",
       " Text(203.7913043478261, 33.974999999999994, 'X[27] <= 44.0\\nentropy = 0.845\\nsamples = 11\\nvalue = [8, 3]'),\n",
       " Text(194.08695652173915, 20.38499999999999, 'entropy = 0.0\\nsamples = 6\\nvalue = [6, 0]'),\n",
       " Text(213.49565217391307, 20.38499999999999, 'X[32] <= 42.5\\nentropy = 0.971\\nsamples = 5\\nvalue = [2, 3]'),\n",
       " Text(203.7913043478261, 6.7949999999999875, 'entropy = 0.0\\nsamples = 2\\nvalue = [2, 0]'),\n",
       " Text(223.20000000000002, 6.7949999999999875, 'entropy = 0.0\\nsamples = 3\\nvalue = [0, 3]'),\n",
       " Text(223.20000000000002, 33.974999999999994, 'entropy = 0.0\\nsamples = 3\\nvalue = [0, 3]'),\n",
       " Text(242.60869565217394, 61.155, 'X[27] <= 26.0\\nentropy = 0.65\\nsamples = 6\\nvalue = [1, 5]'),\n",
       " Text(232.90434782608696, 47.565, 'entropy = 0.0\\nsamples = 1\\nvalue = [1, 0]'),\n",
       " Text(252.31304347826088, 47.565, 'entropy = 0.0\\nsamples = 5\\nvalue = [0, 5]'),\n",
       " Text(242.60869565217394, 74.745, 'entropy = 0.0\\nsamples = 8\\nvalue = [8, 0]'),\n",
       " Text(252.31304347826088, 115.515, 'X[17] <= 450.0\\nentropy = 0.937\\nsamples = 17\\nvalue = [6, 11]'),\n",
       " Text(242.60869565217394, 101.925, 'entropy = 0.0\\nsamples = 7\\nvalue = [0, 7]'),\n",
       " Text(262.0173913043478, 101.925, 'X[5] <= 32.5\\nentropy = 0.971\\nsamples = 10\\nvalue = [6, 4]'),\n",
       " Text(252.31304347826088, 88.33500000000001, 'entropy = 0.0\\nsamples = 5\\nvalue = [5, 0]'),\n",
       " Text(271.7217391304348, 88.33500000000001, 'X[20] <= 154.5\\nentropy = 0.722\\nsamples = 5\\nvalue = [1, 4]'),\n",
       " Text(262.0173913043478, 74.745, 'entropy = 0.0\\nsamples = 4\\nvalue = [0, 4]'),\n",
       " Text(281.4260869565218, 74.745, 'entropy = 0.0\\nsamples = 1\\nvalue = [1, 0]'),\n",
       " Text(247.46086956521742, 129.10500000000002, 'entropy = 0.0\\nsamples = 10\\nvalue = [10, 0]'),\n",
       " Text(276.5739130434783, 169.875, 'X[5] <= 39.5\\nentropy = 1.0\\nsamples = 20\\nvalue = [10, 10]'),\n",
       " Text(266.8695652173913, 156.285, 'X[22] <= 3.65\\nentropy = 0.918\\nsamples = 15\\nvalue = [10, 5]'),\n",
       " Text(257.1652173913044, 142.695, 'entropy = 0.0\\nsamples = 9\\nvalue = [9, 0]'),\n",
       " Text(276.5739130434783, 142.695, 'X[14] <= 12200.0\\nentropy = 0.65\\nsamples = 6\\nvalue = [1, 5]'),\n",
       " Text(266.8695652173913, 129.10500000000002, 'entropy = 0.0\\nsamples = 5\\nvalue = [0, 5]'),\n",
       " Text(286.27826086956526, 129.10500000000002, 'entropy = 0.0\\nsamples = 1\\nvalue = [1, 0]'),\n",
       " Text(286.27826086956526, 156.285, 'entropy = 0.0\\nsamples = 5\\nvalue = [0, 5]'),\n",
       " Text(315.3913043478261, 197.055, 'X[5] <= 29.0\\nentropy = 0.9\\nsamples = 19\\nvalue = [6, 13]'),\n",
       " Text(305.68695652173915, 183.465, 'X[27] <= 77.5\\nentropy = 0.811\\nsamples = 8\\nvalue = [6, 2]'),\n",
       " Text(295.9826086956522, 169.875, 'entropy = 0.0\\nsamples = 6\\nvalue = [6, 0]'),\n",
       " Text(315.3913043478261, 169.875, 'entropy = 0.0\\nsamples = 2\\nvalue = [0, 2]'),\n",
       " Text(325.0956521739131, 183.465, 'entropy = 0.0\\nsamples = 11\\nvalue = [0, 11]')]"
      ]
     },
     "execution_count": 23,
     "metadata": {},
     "output_type": "execute_result"
    },
    {
     "data": {
      "image/png": "[encoded data removed]",
      "text/plain": [
       "<Figure size 432x288 with 1 Axes>"
      ]
     },
     "metadata": {
      "needs_background": "light"
     },
     "output_type": "display_data"
    }
   ],
   "source": [
    "from sklearn import tree\n",
    "tree.plot_tree(classifier)"
   ]
  },
  {
   "cell_type": "markdown",
   "metadata": {},
   "source": [
    "### Purified Data\n",
    "Now we are eliminated all spoilsport features, we can move on actual process"
   ]
  },
  {
   "cell_type": "markdown",
   "metadata": {},
   "source": [
    "## PREPROCESS\n",
    "### ££ Feature Normalization ££\n",
    "Min Max Normalization already done while testing the Decision Tree Accuracy."
   ]
  },
  {
   "cell_type": "markdown",
   "metadata": {},
   "source": [
    "### ££ Feature Selection (ANOVA f-test Feature Selection) ££\n",
    "Since we have numeric data and categoric output (with numeric labels) we are going to use ANOVA f-test Feature Selection.\n",
    "Which includes selecting K best features using f_classif score function. "
   ]
  },
  {
   "cell_type": "code",
   "execution_count": 24,
   "metadata": {},
   "outputs": [],
   "source": [
    "from sklearn.feature_selection import SelectKBest, f_classif\n",
    "\n",
    "feature_select = SelectKBest(score_func=f_classif, k=23)                 \n",
    "feature_select.fit(x_train, y_train)                                               \n",
    "x_train = feature_select.transform(x_train)                                        \n",
    "x_test = feature_select.transform(x_test)                                          "
   ]
  },
  {
   "cell_type": "code",
   "execution_count": 25,
   "metadata": {},
   "outputs": [
    {
     "data": {
      "image/png": "[encoded data removed]",
      "text/plain": [
       "<Figure size 432x288 with 1 Axes>"
      ]
     },
     "metadata": {
      "needs_background": "light"
     },
     "output_type": "display_data"
    },
    {
     "name": "stdout",
     "output_type": "stream",
     "text": [
      "New Feature Count:  (259, 23) - (65, 23)\n"
     ]
    }
   ],
   "source": [
    "plt.bar([i for i in range(len(feature_select.scores_))], feature_select.scores_)\n",
    "plt.show()\n",
    "\n",
    "print(\"New Feature Count: \", x_train.shape,\"-\",x_test.shape)"
   ]
  },
  {
   "cell_type": "markdown",
   "metadata": {},
   "source": [
    "As we can see in the plot, first **23~ish** feature out of 32 (33-1 dropped feature) are effecting the most."
   ]
  },
  {
   "cell_type": "markdown",
   "metadata": {},
   "source": [
    "### ££ Outlier Analysis (LOF - kNN) ££\n",
    "Since we have multidimensional dataset, **Local Outlier Factor** used with **kNN** would fit perfect in our case."
   ]
  },
  {
   "cell_type": "code",
   "execution_count": 26,
   "metadata": {},
   "outputs": [
    {
     "data": {
      "text/plain": [
       "<AxesSubplot:xlabel='duration of symptoms'>"
      ]
     },
     "execution_count": 26,
     "metadata": {},
     "output_type": "execute_result"
    },
    {
     "data": {
      "image/png": "[encoded data removed]",
      "text/plain": [
       "<Figure size 432x288 with 1 Axes>"
      ]
     },
     "metadata": {
      "needs_background": "light"
     },
     "output_type": "display_data"
    }
   ],
   "source": [
    "dataset.plot(x = \"duration of symptoms\", y=\"white blood\", style=\"o\")"
   ]
  },
  {
   "cell_type": "markdown",
   "metadata": {},
   "source": [
    "There is 23x23=529 **feature x feature** combination. To eliminate all of the controls we can use LOF."
   ]
  },
  {
   "cell_type": "code",
   "execution_count": 27,
   "metadata": {},
   "outputs": [],
   "source": [
    "from sklearn.neighbors import LocalOutlierFactor\n",
    "lof = LocalOutlierFactor(n_neighbors=3)         \n",
    "yhat = lof.fit_predict(x_train)\n",
    "mask = yhat != -1                                    \n",
    "x_train, y_train = x_train[mask, :], y_train[mask]"
   ]
  },
  {
   "cell_type": "code",
   "execution_count": 28,
   "metadata": {},
   "outputs": [
    {
     "name": "stdout",
     "output_type": "stream",
     "text": [
      "New Feature Count:  (234, 23) - (65, 23)\n"
     ]
    }
   ],
   "source": [
    "print(\"New Feature Count: \", x_train.shape,\"-\",x_test.shape)"
   ]
  },
  {
   "cell_type": "markdown",
   "metadata": {},
   "source": [
    "## CLASSIFICATION\n",
    "### ££ Decision Tree ££"
   ]
  },
  {
   "cell_type": "code",
   "execution_count": 29,
   "metadata": {},
   "outputs": [
    {
     "data": {
      "text/plain": [
       "[Text(214.675, 203.85, 'X[5] <= 1.5\\nentropy = 0.89\\nsamples = 234\\nvalue = [162, 72]'),\n",
       " Text(131.75, 176.67000000000002, 'X[11] <= 178.5\\nentropy = 0.844\\nsamples = 217\\nvalue = [158, 59]'),\n",
       " Text(49.6, 149.49, 'X[17] <= 4.15\\nentropy = 0.99\\nsamples = 34\\nvalue = [15, 19]'),\n",
       " Text(24.8, 122.31, 'X[0] <= 56.5\\nentropy = 0.702\\nsamples = 21\\nvalue = [4, 17]'),\n",
       " Text(12.4, 95.13, 'entropy = 0.0\\nsamples = 13\\nvalue = [0, 13]'),\n",
       " Text(37.2, 95.13, 'X[6] <= 7.5\\nentropy = 1.0\\nsamples = 8\\nvalue = [4, 4]'),\n",
       " Text(24.8, 67.94999999999999, 'X[11] <= 140.0\\nentropy = 0.722\\nsamples = 5\\nvalue = [4, 1]'),\n",
       " Text(12.4, 40.77000000000001, 'entropy = 0.0\\nsamples = 4\\nvalue = [4, 0]'),\n",
       " Text(37.2, 40.77000000000001, 'entropy = 0.0\\nsamples = 1\\nvalue = [0, 1]'),\n",
       " Text(49.6, 67.94999999999999, 'entropy = 0.0\\nsamples = 3\\nvalue = [0, 3]'),\n",
       " Text(74.4, 122.31, 'X[14] <= 2.75\\nentropy = 0.619\\nsamples = 13\\nvalue = [11, 2]'),\n",
       " Text(62.0, 95.13, 'entropy = 0.0\\nsamples = 2\\nvalue = [0, 2]'),\n",
       " Text(86.8, 95.13, 'entropy = 0.0\\nsamples = 11\\nvalue = [11, 0]'),\n",
       " Text(213.9, 149.49, 'X[6] <= 11.0\\nentropy = 0.758\\nsamples = 183\\nvalue = [143, 40]'),\n",
       " Text(155.0, 122.31, 'X[10] <= 11.5\\nentropy = 0.682\\nsamples = 166\\nvalue = [136, 30]'),\n",
       " Text(111.60000000000001, 95.13, 'X[12] <= 132.5\\nentropy = 0.778\\nsamples = 113\\nvalue = [87, 26]'),\n",
       " Text(99.2, 67.94999999999999, 'entropy = 0.0\\nsamples = 12\\nvalue = [12, 0]'),\n",
       " Text(124.0, 67.94999999999999, 'X[0] <= 71.0\\nentropy = 0.823\\nsamples = 101\\nvalue = [75, 26]'),\n",
       " Text(111.60000000000001, 40.77000000000001, 'X[10] <= 6.5\\nentropy = 0.855\\nsamples = 93\\nvalue = [67, 26]'),\n",
       " Text(99.2, 13.590000000000003, 'entropy = 0.567\\nsamples = 30\\nvalue = [26, 4]'),\n",
       " Text(124.0, 13.590000000000003, 'entropy = 0.933\\nsamples = 63\\nvalue = [41, 22]'),\n",
       " Text(136.4, 40.77000000000001, 'entropy = 0.0\\nsamples = 8\\nvalue = [8, 0]'),\n",
       " Text(198.4, 95.13, 'X[12] <= 132.5\\nentropy = 0.386\\nsamples = 53\\nvalue = [49, 4]'),\n",
       " Text(173.6, 67.94999999999999, 'X[9] <= 0.5\\nentropy = 1.0\\nsamples = 4\\nvalue = [2, 2]'),\n",
       " Text(161.20000000000002, 40.77000000000001, 'entropy = 0.0\\nsamples = 2\\nvalue = [0, 2]'),\n",
       " Text(186.0, 40.77000000000001, 'entropy = 0.0\\nsamples = 2\\nvalue = [2, 0]'),\n",
       " Text(223.20000000000002, 67.94999999999999, 'X[3] <= 0.5\\nentropy = 0.246\\nsamples = 49\\nvalue = [47, 2]'),\n",
       " Text(210.8, 40.77000000000001, 'X[14] <= 4.75\\nentropy = 0.146\\nsamples = 48\\nvalue = [47, 1]'),\n",
       " Text(198.4, 13.590000000000003, 'entropy = 0.0\\nsamples = 47\\nvalue = [47, 0]'),\n",
       " Text(223.20000000000002, 13.590000000000003, 'entropy = 0.0\\nsamples = 1\\nvalue = [0, 1]'),\n",
       " Text(235.6, 40.77000000000001, 'entropy = 0.0\\nsamples = 1\\nvalue = [0, 1]'),\n",
       " Text(272.8, 122.31, 'X[4] <= 39.5\\nentropy = 0.977\\nsamples = 17\\nvalue = [7, 10]'),\n",
       " Text(260.40000000000003, 95.13, 'X[14] <= 3.65\\nentropy = 0.98\\nsamples = 12\\nvalue = [7, 5]'),\n",
       " Text(248.0, 67.94999999999999, 'entropy = 0.0\\nsamples = 6\\nvalue = [6, 0]'),\n",
       " Text(272.8, 67.94999999999999, 'X[12] <= 534.5\\nentropy = 0.65\\nsamples = 6\\nvalue = [1, 5]'),\n",
       " Text(260.40000000000003, 40.77000000000001, 'entropy = 0.0\\nsamples = 5\\nvalue = [0, 5]'),\n",
       " Text(285.2, 40.77000000000001, 'entropy = 0.0\\nsamples = 1\\nvalue = [1, 0]'),\n",
       " Text(285.2, 95.13, 'entropy = 0.0\\nsamples = 5\\nvalue = [0, 5]'),\n",
       " Text(297.6, 176.67000000000002, 'X[4] <= 19.0\\nentropy = 0.787\\nsamples = 17\\nvalue = [4, 13]'),\n",
       " Text(285.2, 149.49, 'entropy = 0.0\\nsamples = 3\\nvalue = [3, 0]'),\n",
       " Text(310.0, 149.49, 'X[15] <= 77.5\\nentropy = 0.371\\nsamples = 14\\nvalue = [1, 13]'),\n",
       " Text(297.6, 122.31, 'entropy = 0.0\\nsamples = 1\\nvalue = [1, 0]'),\n",
       " Text(322.40000000000003, 122.31, 'entropy = 0.0\\nsamples = 13\\nvalue = [0, 13]')]"
      ]
     },
     "execution_count": 29,
     "metadata": {},
     "output_type": "execute_result"
    },
    {
     "data": {
      "image/png": "[encoded data removed]",
      "text/plain": [
       "<Figure size 432x288 with 1 Axes>"
      ]
     },
     "metadata": {
      "needs_background": "light"
     },
     "output_type": "display_data"
    }
   ],
   "source": [
    "from sklearn.tree import DecisionTreeClassifier, plot_tree\n",
    "classifier = DecisionTreeClassifier(criterion = 'entropy', max_depth=7)\n",
    "classifier.fit(x_train, y_train)\n",
    "\n",
    "plot_tree(classifier)"
   ]
  },
  {
   "cell_type": "code",
   "execution_count": 30,
   "metadata": {},
   "outputs": [
    {
     "name": "stdout",
     "output_type": "stream",
     "text": [
      "---- Decision Tree ----\n",
      "***********************\n",
      " [[46  2]\n",
      " [11  6]]\n",
      "accuracy score: 0.8\n",
      "f1 score: 0.48\n"
     ]
    }
   ],
   "source": [
    "y_pred = classifier.predict(x_test)\n",
    "\n",
    "from sklearn.metrics import confusion_matrix, accuracy_score, f1_score\n",
    "cm = confusion_matrix(y_test, y_pred)\n",
    "print(\"---- Decision Tree ----\\n***********************\\n\",cm)\n",
    "print(\"accuracy score:\",accuracy_score(y_test, y_pred))\n",
    "print(\"f1 score:\",f1_score(y_test, y_pred))"
   ]
  },
  {
   "cell_type": "markdown",
   "metadata": {},
   "source": [
    "### ££ Naive Bayes Classification ££"
   ]
  },
  {
   "cell_type": "code",
   "execution_count": 31,
   "metadata": {},
   "outputs": [],
   "source": [
    "from sklearn.naive_bayes import GaussianNB\n",
    "\n",
    "bayes = GaussianNB()\n",
    "bayes.fit(x_train, y_train)\n",
    "\n",
    "y_pred = bayes.predict(x_test)"
   ]
  },
  {
   "cell_type": "code",
   "execution_count": 32,
   "metadata": {},
   "outputs": [
    {
     "name": "stdout",
     "output_type": "stream",
     "text": [
      "---- Naive Bayes ----\n",
      "***********************\n",
      "\n",
      "accuracy score: 0.7538461538461538\n",
      "f1 score: 0.4666666666666667\n"
     ]
    }
   ],
   "source": [
    "print(\"---- Naive Bayes ----\\n***********************\\n\")\n",
    "print(\"accuracy score:\",accuracy_score(y_test, y_pred))\n",
    "print(\"f1 score:\",f1_score(y_test, y_pred))"
   ]
  },
  {
   "cell_type": "markdown",
   "metadata": {},
   "source": [
    "##### Low f1 scores shows that our dataset is like fraud detection with high accuracy and low f1 score. "
   ]
  },
  {
   "cell_type": "markdown",
   "metadata": {},
   "source": [
    "### ££ Random Forest Classifier ££"
   ]
  },
  {
   "cell_type": "code",
   "execution_count": 33,
   "metadata": {},
   "outputs": [],
   "source": [
    "from sklearn.ensemble import RandomForestClassifier\n",
    "rndFor = RandomForestClassifier(max_depth=2, random_state=0)\n",
    "rndFor.fit(x_train, y_train)\n",
    "\n",
    "y_pred = rndFor.predict(x_test)"
   ]
  },
  {
   "cell_type": "code",
   "execution_count": 34,
   "metadata": {},
   "outputs": [
    {
     "name": "stdout",
     "output_type": "stream",
     "text": [
      "---- Naive Bayes ----\n",
      "***********************\n",
      "\n",
      "accuracy score: 0.7384615384615385\n",
      "f1 score: 0.0\n"
     ]
    }
   ],
   "source": [
    "print(\"---- Naive Bayes ----\\n***********************\\n\")\n",
    "print(\"accuracy score:\",accuracy_score(y_test, y_pred))\n",
    "print(\"f1 score:\",f1_score(y_test, y_pred))"
   ]
  },
  {
   "cell_type": "markdown",
   "metadata": {},
   "source": [
    "### ££ K Neighbors Classifier ££"
   ]
  },
  {
   "cell_type": "code",
   "execution_count": 35,
   "metadata": {},
   "outputs": [],
   "source": [
    "from sklearn.neighbors import KNeighborsClassifier\n",
    "neigh = KNeighborsClassifier(n_neighbors=3)\n",
    "neigh.fit(x_train, y_train)\n",
    "\n",
    "y_pred = neigh.predict(x_test)"
   ]
  },
  {
   "cell_type": "code",
   "execution_count": 36,
   "metadata": {},
   "outputs": [
    {
     "name": "stdout",
     "output_type": "stream",
     "text": [
      "---- K Neighbors Classifier ----\n",
      "***********************\n",
      "\n",
      "accuracy score: 0.8\n",
      "f1 score: 0.6060606060606061\n"
     ]
    }
   ],
   "source": [
    "print(\"---- K Neighbors Classifier ----\\n***********************\\n\")\n",
    "print(\"accuracy score:\",accuracy_score(y_test, y_pred))\n",
    "print(\"f1 score:\",f1_score(y_test, y_pred))"
   ]
  },
  {
   "cell_type": "markdown",
   "metadata": {},
   "source": [
    "### ££ Ada Boost Classifier ££"
   ]
  },
  {
   "cell_type": "code",
   "execution_count": 37,
   "metadata": {},
   "outputs": [],
   "source": [
    "from sklearn.ensemble import AdaBoostClassifier\n",
    "ada = AdaBoostClassifier(n_estimators=100, random_state=0)\n",
    "ada.fit(x_train, y_train)\n",
    "\n",
    "y_pred = ada.predict(x_test)"
   ]
  },
  {
   "cell_type": "code",
   "execution_count": 38,
   "metadata": {},
   "outputs": [
    {
     "name": "stdout",
     "output_type": "stream",
     "text": [
      "---- Ada Boost Classifier ----\n",
      "***********************\n",
      "\n",
      "accuracy score: 0.7538461538461538\n",
      "f1 score: 0.4666666666666667\n"
     ]
    }
   ],
   "source": [
    "print(\"---- Ada Boost Classifier ----\\n***********************\\n\")\n",
    "print(\"accuracy score:\",accuracy_score(y_test, y_pred))\n",
    "print(\"f1 score:\",f1_score(y_test, y_pred))"
   ]
  },
  {
   "cell_type": "markdown",
   "metadata": {},
   "source": [
    "### ££ Extra Gradient Boost Classsifier ££"
   ]
  },
  {
   "cell_type": "code",
   "execution_count": 39,
   "metadata": {},
   "outputs": [
    {
     "name": "stdout",
     "output_type": "stream",
     "text": [
      "[16:47:10] WARNING: C:/Users/Administrator/workspace/xgboost-win64_release_1.3.0/src/learner.cc:1061: Starting in XGBoost 1.3.0, the default evaluation metric used with the objective 'binary:logistic' was changed from 'error' to 'logloss'. Explicitly set eval_metric if you'd like to restore the old behavior.\n"
     ]
    },
    {
     "name": "stderr",
     "output_type": "stream",
     "text": [
      "c:\\users\\enes\\appdata\\local\\programs\\python\\python39\\lib\\site-packages\\xgboost\\sklearn.py:892: UserWarning: The use of label encoder in XGBClassifier is deprecated and will be removed in a future release. To remove this warning, do the following: 1) Pass option use_label_encoder=False when constructing XGBClassifier object; and 2) Encode your labels (y) as integers starting with 0, i.e. 0, 1, 2, ..., [num_class - 1].\n",
      "  warnings.warn(label_encoder_deprecation_msg, UserWarning)\n"
     ]
    }
   ],
   "source": [
    "xgb=XGBClassifier()\n",
    "xgb.fit(x_train,y_train)\n",
    "\n",
    "y_pred = xgb.predict(x_test)"
   ]
  },
  {
   "cell_type": "code",
   "execution_count": 40,
   "metadata": {},
   "outputs": [
    {
     "name": "stdout",
     "output_type": "stream",
     "text": [
      "---- Extra Gradient Boost Classifier ----\n",
      "***********************\n",
      "\n",
      "accuracy score: 0.7384615384615385\n",
      "f1 score: 0.41379310344827586\n"
     ]
    }
   ],
   "source": [
    "print(\"---- Extra Gradient Boost Classifier ----\\n***********************\\n\")\n",
    "print(\"accuracy score:\",accuracy_score(y_test, y_pred))\n",
    "print(\"f1 score:\",f1_score(y_test, y_pred))"
   ]
  },
  {
   "cell_type": "markdown",
   "metadata": {},
   "source": [
    "## ££ Conclusion ££\n",
    "\n",
    "With the highest accuracy and f1 score, **KNN Classifier** is the best classification method to choose."
   ]
  },
  {
   "cell_type": "markdown",
   "metadata": {},
   "source": [
    "## CLUSTERING\n",
    "\n",
    "In clustering, we won't be using test data. We can move on with only the train data."
   ]
  },
  {
   "cell_type": "code",
   "execution_count": 41,
   "metadata": {},
   "outputs": [],
   "source": [
    "X = x_train\n",
    "y = y_train"
   ]
  },
  {
   "cell_type": "markdown",
   "metadata": {},
   "source": [
    "We are searching for nearest graph to the one on down below"
   ]
  },
  {
   "cell_type": "code",
   "execution_count": 44,
   "metadata": {},
   "outputs": [
    {
     "data": {
      "image/png": "[encoded data removed]",
      "text/plain": [
       "<Figure size 432x288 with 1 Axes>"
      ]
     },
     "metadata": {
      "needs_background": "light"
     },
     "output_type": "display_data"
    }
   ],
   "source": [
    "from numpy import unique\n",
    "from numpy import where\n",
    "from matplotlib import pyplot\n",
    "\n",
    "for class_value in range(2):\n",
    "\trow_ix = where(y == class_value)\n",
    "\tpyplot.scatter(X[row_ix, 0], X[row_ix, 1])\n",
    "\n",
    "pyplot.show()"
   ]
  },
  {
   "cell_type": "markdown",
   "metadata": {},
   "source": [
    "### £££ K Means Clustering £££"
   ]
  },
  {
   "cell_type": "code",
   "execution_count": 45,
   "metadata": {},
   "outputs": [],
   "source": [
    "from sklearn.cluster import KMeans\n",
    "                                                                      \n",
    "kmean = KMeans(n_clusters=2, random_state=np.random.RandomState(17))  \n",
    "y_pred = kmean.fit_predict(X)                                         "
   ]
  },
  {
   "cell_type": "code",
   "execution_count": 46,
   "metadata": {
    "scrolled": true
   },
   "outputs": [
    {
     "data": {
      "text/plain": [
       "<AxesSubplot:>"
      ]
     },
     "execution_count": 46,
     "metadata": {},
     "output_type": "execute_result"
    },
    {
     "data": {
      "image/png": "[encoded data removed]",
      "text/plain": [
       "<Figure size 432x288 with 1 Axes>"
      ]
     },
     "metadata": {
      "needs_background": "light"
     },
     "output_type": "display_data"
    }
   ],
   "source": [
    "cluster_df = pd.DataFrame(X)\n",
    "cluster_df['class'] = y_pred\n",
    "pd.plotting.parallel_coordinates(cluster_df, 'class', color=['red', 'green'])"
   ]
  },
  {
   "cell_type": "code",
   "execution_count": 47,
   "metadata": {},
   "outputs": [
    {
     "data": {
      "text/plain": [
       "<AxesSubplot:>"
      ]
     },
     "execution_count": 47,
     "metadata": {},
     "output_type": "execute_result"
    },
    {
     "data": {
      "image/png": "[encoded data removed]",
      "text/plain": [
       "<Figure size 432x288 with 1 Axes>"
      ]
     },
     "metadata": {
      "needs_background": "light"
     },
     "output_type": "display_data"
    }
   ],
   "source": [
    "cluster_df['class'] = y\n",
    "pd.plotting.parallel_coordinates(cluster_df, 'class', color=['red', 'green'])"
   ]
  },
  {
   "cell_type": "code",
   "execution_count": 48,
   "metadata": {},
   "outputs": [
    {
     "name": "stdout",
     "output_type": "stream",
     "text": [
      "Accuracy :  0.6752136752136753\n",
      "F1-Score :  0.11627906976744186\n"
     ]
    }
   ],
   "source": [
    "acc = accuracy_score(y, y_pred)\n",
    "f1 = f1_score(y, y_pred)\n",
    "print('Accuracy : ', acc)\n",
    "print('F1-Score : ', f1)"
   ]
  },
  {
   "cell_type": "code",
   "execution_count": 49,
   "metadata": {
    "scrolled": true
   },
   "outputs": [
    {
     "data": {
      "image/png": "[encoded data removed]",
      "text/plain": [
       "<Figure size 432x288 with 1 Axes>"
      ]
     },
     "metadata": {
      "needs_background": "light"
     },
     "output_type": "display_data"
    }
   ],
   "source": [
    "from numpy import unique\n",
    "from numpy import where\n",
    "from matplotlib import pyplot\n",
    "\n",
    "model = KMeans(n_clusters=2)\n",
    "model.fit(X)\n",
    "\n",
    "yhat = model.predict(X)\n",
    "\n",
    "clusters = unique(yhat)\n",
    "\n",
    "for cluster in clusters:\n",
    "\trow_ix = where(yhat == cluster)\n",
    "\tpyplot.scatter(X[row_ix, 0], X[row_ix, 1])\n",
    "\n",
    "pyplot.show()"
   ]
  },
  {
   "cell_type": "markdown",
   "metadata": {},
   "source": [
    "### Comment\n",
    "As we can see in the real clusters, our data is very crowded in attribute and class order. We need to change our dimensions to get a clear comparison."
   ]
  },
  {
   "cell_type": "markdown",
   "metadata": {},
   "source": [
    "### £££ Expectation Maximization Clustering £££"
   ]
  },
  {
   "cell_type": "code",
   "execution_count": 50,
   "metadata": {},
   "outputs": [],
   "source": [
    "from sklearn.mixture import GaussianMixture\n",
    "                                                                                \n",
    "em = GaussianMixture(n_components=2, random_state=np.random.RandomState(13)) \n",
    "y_pred = em.fit_predict(X)                                                   "
   ]
  },
  {
   "cell_type": "code",
   "execution_count": 51,
   "metadata": {},
   "outputs": [
    {
     "data": {
      "text/plain": [
       "<AxesSubplot:>"
      ]
     },
     "execution_count": 51,
     "metadata": {},
     "output_type": "execute_result"
    },
    {
     "data": {
      "image/png": "[encoded data removed]",
      "text/plain": [
       "<Figure size 432x288 with 1 Axes>"
      ]
     },
     "metadata": {
      "needs_background": "light"
     },
     "output_type": "display_data"
    }
   ],
   "source": [
    "cluster_df = pd.DataFrame(X)\n",
    "cluster_df['class'] = y_pred\n",
    "pd.plotting.parallel_coordinates(cluster_df, 'class', color=['red', 'green'])"
   ]
  },
  {
   "cell_type": "code",
   "execution_count": 52,
   "metadata": {},
   "outputs": [
    {
     "data": {
      "text/plain": [
       "<AxesSubplot:>"
      ]
     },
     "execution_count": 52,
     "metadata": {},
     "output_type": "execute_result"
    },
    {
     "data": {
      "image/png": "[encoded data removed]",
      "text/plain": [
       "<Figure size 432x288 with 1 Axes>"
      ]
     },
     "metadata": {
      "needs_background": "light"
     },
     "output_type": "display_data"
    }
   ],
   "source": [
    "cluster_df['class'] = y\n",
    "pd.plotting.parallel_coordinates(cluster_df, 'class', color=['red', 'green'])"
   ]
  },
  {
   "cell_type": "code",
   "execution_count": 53,
   "metadata": {},
   "outputs": [
    {
     "name": "stdout",
     "output_type": "stream",
     "text": [
      "Accuracy :  0.3418803418803419\n",
      "F1-Score :  0.40310077519379844\n"
     ]
    }
   ],
   "source": [
    "acc = accuracy_score(y, y_pred)\n",
    "f1 = f1_score(y, y_pred)\n",
    "print('Accuracy : ', acc)\n",
    "print('F1-Score : ', f1)"
   ]
  },
  {
   "cell_type": "markdown",
   "metadata": {},
   "source": [
    "### £££ Agglomerative Clustering £££"
   ]
  },
  {
   "cell_type": "code",
   "execution_count": 54,
   "metadata": {},
   "outputs": [
    {
     "data": {
      "image/png": "[encoded data removed]",
      "text/plain": [
       "<Figure size 432x288 with 1 Axes>"
      ]
     },
     "metadata": {
      "needs_background": "light"
     },
     "output_type": "display_data"
    },
    {
     "name": "stdout",
     "output_type": "stream",
     "text": [
      "Accuracy :  0.6794871794871795\n"
     ]
    }
   ],
   "source": [
    "from sklearn.cluster import AgglomerativeClustering\n",
    "model = AgglomerativeClustering(n_clusters=2)\n",
    "y_pred = model.fit_predict(X)\n",
    "\n",
    "clusters = unique(y_pred)\n",
    "for cluster in clusters:                        ###For each cluster [0,1] take scatter values\n",
    "\trow_ix = where(y_pred == cluster)           ###Cluster-0 and cluster-1 are going to be the row values\n",
    "\tpyplot.scatter(X[row_ix, 0], X[row_ix, 1])  ###Scatter values\n",
    "\n",
    "pyplot.show()\n",
    "\n",
    "acc = accuracy_score(y, y_pred)\n",
    "f1 = f1_score(y, y_pred)\n",
    "print('Accuracy : ', acc)"
   ]
  },
  {
   "cell_type": "markdown",
   "metadata": {},
   "source": [
    "### £££ Other Clustering Methods £££\n",
    "##### Meanshift"
   ]
  },
  {
   "cell_type": "code",
   "execution_count": 55,
   "metadata": {},
   "outputs": [
    {
     "data": {
      "image/png": "[encoded data removed]",
      "text/plain": [
       "<Figure size 432x288 with 1 Axes>"
      ]
     },
     "metadata": {
      "needs_background": "light"
     },
     "output_type": "display_data"
    },
    {
     "name": "stdout",
     "output_type": "stream",
     "text": [
      "Accuracy :  0.6282051282051282\n"
     ]
    }
   ],
   "source": [
    "from sklearn.cluster import MeanShift\n",
    "model = MeanShift()\n",
    "\n",
    "yhat = model.fit_predict(X)\n",
    "clusters = unique(yhat)\n",
    "\n",
    "for cluster in clusters:\n",
    "\trow_ix = where(yhat == cluster)\n",
    "\tpyplot.scatter(X[row_ix, 0], X[row_ix, 1])\n",
    "\n",
    "pyplot.show()\n",
    "\n",
    "acc = accuracy_score(y, yhat)\n",
    "print('Accuracy : ', acc)"
   ]
  },
  {
   "cell_type": "markdown",
   "metadata": {},
   "source": [
    "##### OPTICS"
   ]
  },
  {
   "cell_type": "code",
   "execution_count": 56,
   "metadata": {},
   "outputs": [
    {
     "data": {
      "image/png": "[encoded data removed]",
      "text/plain": [
       "<Figure size 432x288 with 1 Axes>"
      ]
     },
     "metadata": {
      "needs_background": "light"
     },
     "output_type": "display_data"
    },
    {
     "name": "stdout",
     "output_type": "stream",
     "text": [
      "Accuracy :  0.06837606837606838\n"
     ]
    }
   ],
   "source": [
    "from sklearn.cluster import OPTICS\n",
    "model = OPTICS(eps=0.8, min_samples=10)\n",
    "\n",
    "yhat = model.fit_predict(X)\n",
    "clusters = unique(yhat)\n",
    "\n",
    "for cluster in clusters:\n",
    "\trow_ix = where(yhat == cluster)\n",
    "\tpyplot.scatter(X[row_ix, 0], X[row_ix, 1])\n",
    "\n",
    "pyplot.show()\n",
    "\n",
    "acc = accuracy_score(y, yhat)\n",
    "print('Accuracy : ', acc)"
   ]
  },
  {
   "cell_type": "markdown",
   "metadata": {},
   "source": [
    "##### Affinity Propagation"
   ]
  },
  {
   "cell_type": "code",
   "execution_count": 57,
   "metadata": {},
   "outputs": [
    {
     "data": {
      "image/png": "[encoded data removed]",
      "text/plain": [
       "<Figure size 432x288 with 1 Axes>"
      ]
     },
     "metadata": {
      "needs_background": "light"
     },
     "output_type": "display_data"
    },
    {
     "name": "stdout",
     "output_type": "stream",
     "text": [
      "Accuracy :  0.6923076923076923\n"
     ]
    }
   ],
   "source": [
    "from sklearn.cluster import AffinityPropagation\n",
    "model = AffinityPropagation(damping=0.9, random_state=0)\n",
    "\n",
    "model.fit(X)\n",
    "yhat = model.predict(X)\n",
    "clusters = unique(yhat)\n",
    "\n",
    "for cluster in clusters:\n",
    "\trow_ix = where(yhat == cluster)\n",
    "\tpyplot.scatter(X[row_ix, 0], X[row_ix, 1])\n",
    "\n",
    "pyplot.show()\n",
    "\n",
    "acc = accuracy_score(y, yhat)\n",
    "print('Accuracy : ', acc)"
   ]
  },
  {
   "cell_type": "markdown",
   "metadata": {},
   "source": [
    "##### BIRCH"
   ]
  },
  {
   "cell_type": "code",
   "execution_count": 58,
   "metadata": {},
   "outputs": [
    {
     "data": {
      "image/png": "[encoded data removed]",
      "text/plain": [
       "<Figure size 432x288 with 1 Axes>"
      ]
     },
     "metadata": {
      "needs_background": "light"
     },
     "output_type": "display_data"
    },
    {
     "name": "stdout",
     "output_type": "stream",
     "text": [
      "Accuracy :  0.6794871794871795\n"
     ]
    }
   ],
   "source": [
    "from sklearn.cluster import Birch\n",
    "model = Birch(threshold=0.01, n_clusters=2)\n",
    "\n",
    "model.fit(X)\n",
    "yhat = model.predict(X)\n",
    "clusters = unique(yhat)\n",
    "\n",
    "for cluster in clusters:\n",
    "\trow_ix = where(yhat == cluster)\n",
    "\tpyplot.scatter(X[row_ix, 0], X[row_ix, 1])\n",
    "\n",
    "pyplot.show()\n",
    "\n",
    "acc = accuracy_score(y, yhat)\n",
    "print('Accuracy : ', acc)"
   ]
  },
  {
   "cell_type": "markdown",
   "metadata": {},
   "source": [
    "### £££ Conclusion £££\n",
    "\n",
    "If we look at all clustering methods, we easily can say that our supervised dataset does not work with the clustering methods.\n",
    "\n",
    "But in this cluster of clustering methods, 3 of them distinguished from all.\n",
    "\n",
    "*   K-means                  => 0.6752136752136753 *(with very low f_score)* \n",
    "   \n",
    "*   EM                   => 0.3418803418803419\n",
    "   \n",
    "*   **Agglomerative        => 0.6794871794871795**\n",
    "   \n",
    "*   Meanshift            => 0.6282051282051282\n",
    "   \n",
    "*   OPTICS               => 0.06837606837606838\n",
    "   \n",
    "*   **Affinity Propagation => 0.6923076923076923**\n",
    "   \n",
    "*   **BIRCH                => 0.6794871794871795**\n",
    "   \n",
    "##### Agglomerative method involves merging examples until the desired number of clusters is achieved. In our case it is useful because of the merging features, just like the hospitals. Each test result leads to another and comes with an conclusion.\n",
    "\n",
    "##### Affinity Propagation finds a set of example that best summarize the data. That would do just well on a supervised dataset in use of unsupervised methods.\n",
    "\n",
    "##### BIRCH (Balanced Iterative Reducing and Clustering) uses a tree structure to demonstrate the dataset. Just like the above clustering that would do nice on our dataset."
   ]
  },
  {
   "cell_type": "markdown",
   "metadata": {},
   "source": [
    "# ENDING\n",
    "\n",
    "#### At the end of all processes, we can lead to 3 main inferences:\n",
    "* #### Always check up dataset before starting the classification and clustering.\n",
    "* #### Supervised datasets are working best with the classification algorithms.\n",
    "* #### Preprocessing (outlier analysis, normalization, feature reduction or selection etc.) is an important part of data mining.\n",
    "\n",
    "## For our Data-set \n",
    "\n",
    "* #### Best Classification : KNN Classifier\n",
    "* #### Best Clustering : Affinity Propagation\n",
    "* #### Performed Processes : \n",
    "    * Normalization (Min-Max)\n",
    "    * Feature Selection (ANOVA)\n",
    "    * Anomaly - Outlier Analysis (LOF-kNN)\n",
    "    * Classification (XGBClassifier, Ada Boost Classifier, Decision Tree, Naive Bayes Classification, Random Forest Classifier, k Neighbors Classifier) \n",
    "    * Clustering (K-means, EM, Agglomerative, Meanshift, OPTICS, Affinity Propagation, BIRCH)           "
   ]
  },
  {
   "cell_type": "code",
   "execution_count": null,
   "metadata": {},
   "outputs": [],
   "source": []
  },
  {
   "cell_type": "code",
   "execution_count": null,
   "metadata": {},
   "outputs": [],
   "source": []
  }
 ],
 "metadata": {
  "kernelspec": {
   "display_name": "Python 3",
   "language": "python",
   "name": "python3"
  },
  "language_info": {
   "codemirror_mode": {
    "name": "ipython",
    "version": 3
   },
   "file_extension": ".py",
   "mimetype": "text/x-python",
   "name": "python",
   "nbconvert_exporter": "python",
   "pygments_lexer": "ipython3",
   "version": "3.9.0"
  }
 },
 "nbformat": 4,
 "nbformat_minor": 4
}
